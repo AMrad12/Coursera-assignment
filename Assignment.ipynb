{
 "cells": [
  {
   "cell_type": "markdown",
   "metadata": {},
   "source": [
    "<center>\n",
    "    <img src=\"https://cf-courses-data.s3.us.cloud-object-storage.appdomain.cloud/IBMDeveloperSkillsNetwork-DS0105EN-SkillsNetwork/labs/Module2/images/SN_web_lightmode.png\" width=\"300\" alt=\"cognitiveclass.ai logo\">\n",
    "</center>\n"
   ]
  },
  {
   "cell_type": "markdown",
   "metadata": {},
   "source": [
    "#### Add your code below following the instructions given in the course\n"
   ]
  },
  {
   "cell_type": "markdown",
   "metadata": {},
   "source": [
    "# Peer Assignment"
   ]
  },
  {
   "cell_type": "markdown",
   "metadata": {},
   "source": [
    "I will be following the assignments exercises in this notebook"
   ]
  },
  {
   "cell_type": "markdown",
   "metadata": {},
   "source": [
    "### Data Science languages :\n",
    "\n",
    "-  Python\n",
    "<br>\n",
    "-  R\n",
    "<br>\n",
    "-  SQL\n",
    "<br>\n",
    "-  Java\n",
    "<br>\n",
    "-  Julia\n",
    "<br>\n",
    "-  Scala\n",
    "<br>\n",
    "-  C/C++\n",
    "<br>\n",
    "-  JavaScript \n"
   ]
  },
  {
   "cell_type": "markdown",
   "metadata": {},
   "source": [
    "### Data Science libraries :\n",
    "-  TensorFlow\n",
    "-  NumPy\n",
    "-  SciPy\n",
    "-  Pandas\n",
    "-  Matplotlib\n",
    "-  Keras\n",
    "-  PyTorch\n"
   ]
  },
  {
   "cell_type": "markdown",
   "metadata": {},
   "source": [
    "### Data Science Tools\n",
    "\n",
    "-  Jupyter Notebooks\n",
    "-  RStudio IDE \n",
    "-  GitHub\n",
    "-  Watson Studio"
   ]
  },
  {
   "cell_type": "markdown",
   "metadata": {},
   "source": [
    "### Arithmetic expression example:\n",
    "\n",
    "6x4+10-1=33"
   ]
  },
  {
   "cell_type": "code",
   "execution_count": 5,
   "metadata": {},
   "outputs": [
    {
     "name": "stdout",
     "output_type": "stream",
     "text": [
      "Product of 1 and 2 is 2\n",
      "Sum of 1 and 2 is 3\n"
     ]
    }
   ],
   "source": [
    "n1 = 1\n",
    "n2 = 2\n",
    "s= n1 + n2 \n",
    "p= n1 * n2 \n",
    "print(\"Product of {} and {} is {}\".format(n1, n2, p))\n",
    "print(\"Sum of {} and {} is {}\".format(n1, n2, s))"
   ]
  },
  {
   "cell_type": "code",
   "execution_count": 11,
   "metadata": {},
   "outputs": [
    {
     "name": "stdin",
     "output_type": "stream",
     "text": [
      "Enter the number of minutes 360\n"
     ]
    },
    {
     "name": "stdout",
     "output_type": "stream",
     "text": [
      "Hours:  6.0\n",
      "Minutes:  0\n"
     ]
    }
   ],
   "source": [
    "\n",
    "x= int(input(\"Enter the number of minutes\"))\n",
    "h= x / 60\n",
    "m= x % 60\n",
    "print(\"Hours: \", h)\n",
    "print(\"Minutes: \", m)"
   ]
  },
  {
   "cell_type": "markdown",
   "metadata": {},
   "source": [
    "# Objectives:\n",
    "\n",
    "-  Creating a JupyterNotebook using Skills Network LTI\n",
    "-  Creating Markdown cells\n",
    "-  Creating Code cells\n",
    "\n",
    "\n"
   ]
  },
  {
   "cell_type": "markdown",
   "metadata": {},
   "source": [
    "# Author :\n",
    "### -  Ahmed"
   ]
  },
  {
   "cell_type": "code",
   "execution_count": null,
   "metadata": {},
   "outputs": [],
   "source": []
  }
 ],
 "metadata": {
  "kernelspec": {
   "display_name": "Python",
   "language": "python",
   "name": "conda-env-python-py"
  },
  "language_info": {
   "codemirror_mode": {
    "name": "ipython",
    "version": 3
   },
   "file_extension": ".py",
   "mimetype": "text/x-python",
   "name": "python",
   "nbconvert_exporter": "python",
   "pygments_lexer": "ipython3",
   "version": "3.7.12"
  }
 },
 "nbformat": 4,
 "nbformat_minor": 4
}
